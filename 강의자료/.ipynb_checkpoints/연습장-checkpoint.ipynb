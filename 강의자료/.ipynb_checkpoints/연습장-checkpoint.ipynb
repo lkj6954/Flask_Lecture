{
 "cells": [
  {
   "cell_type": "markdown",
   "metadata": {},
   "source": [
    "## python core summary 따라하기"
   ]
  },
  {
   "cell_type": "markdown",
   "metadata": {},
   "source": [
    "### Small Project 1\n",
    "* 변수 이름 10개 만들어보기\n",
    "    * 나이, 이름, 키, 몸무게, 발사이즈, 안경 유무, 결혼 유무, 성별, 취미, 특기\n",
    "    * 변수 이름 만들 때, 영문으로 시작하기"
   ]
  },
  {
   "cell_type": "code",
   "execution_count": 13,
   "metadata": {},
   "outputs": [],
   "source": [
    "age = 26\n",
    "height = 173\n",
    "weight = 72\n",
    "foot = 265\n",
    "glasses = 1\n",
    "married = 0\n",
    "sex = \"male\"\n",
    "hobby = \"reading\"\n",
    "specialty = \"rap\""
   ]
  },
  {
   "cell_type": "markdown",
   "metadata": {},
   "source": [
    "* 느낀점\n",
    "    1. 오랜만에 해서 파이썬은 자료형 타입을 선언하지 않아도 되었다는 것을 간과했다.\n",
    "    2. 콤마로 이어서 변수 선언을 하면 안된다는 것을 몰랐다."
   ]
  },
  {
   "cell_type": "markdown",
   "metadata": {},
   "source": [
    "## Small Project2\n",
    "* 반지름(r=10)을 선언한 뒤, 이를 이용하여 원의 지름, 둘레(2 * pi * r), 넓이(r * r * pi)를 각각 출력하는 파이썬 파일을 만들어보세요.(pi=3.1415)"
   ]
  },
  {
   "cell_type": "code",
   "execution_count": 16,
   "metadata": {},
   "outputs": [
    {
     "name": "stdout",
     "output_type": "stream",
     "text": [
      "원의 지름 :  20\n",
      "원의 둘레 :  62.830000000000005\n",
      "원의 넓이 :  314.15000000000003\n"
     ]
    }
   ],
   "source": [
    "r = 10\n",
    "pi = 3.1415\n",
    "print(\"원의 지름 : \", r*2)\n",
    "print(\"원의 둘레 : \", 2 * pi * r)\n",
    "print(\"원의 넓이 : \", r * r * pi)"
   ]
  },
  {
   "cell_type": "markdown",
   "metadata": {},
   "source": [
    "# ======================"
   ]
  },
  {
   "cell_type": "code",
   "execution_count": 28,
   "metadata": {},
   "outputs": [
    {
     "name": "stdout",
     "output_type": "stream",
     "text": [
      "이름을 입력하세요 : 이경준\n",
      "환영합니다, 이경준님\n"
     ]
    }
   ],
   "source": [
    "name = input(\"이름을 입력하세요 : \")\n",
    "print(\"환영합니다, %s님\" %name)"
   ]
  },
  {
   "cell_type": "markdown",
   "metadata": {},
   "source": [
    "* print문에서 %로 출력할 때의 방법을 계속 까먹는다. dot이나 comma를 쓰면 안된다!"
   ]
  },
  {
   "cell_type": "code",
   "execution_count": 30,
   "metadata": {},
   "outputs": [
    {
     "name": "stdout",
     "output_type": "stream",
     "text": [
      "정수 A의 값을 입력하세요 : 15\n",
      "정수 B의 값을 입력하세요 : 20\n",
      "A + B = 35\n"
     ]
    }
   ],
   "source": [
    "A = int(input(\"정수 A의 값을 입력하세요 : \"))\n",
    "B = int(input(\"정수 B의 값을 입력하세요 : \"))\n",
    "print(\"A + B = %s\" %(A+B))"
   ]
  },
  {
   "cell_type": "markdown",
   "metadata": {},
   "source": [
    "markdown에서 굵게 하려면 애스터리스크 두개로 앞뒤를 감싸면 된다. **이렇게**\n",
    ">그리고 맨 첫 줄에 >으로 이것처럼 가능\n",
    "```\n",
    "위아래를 ```으로 감싸면 코드처럼 가능\n",
    "like this\n",
    "```\n"
   ]
  },
  {
   "cell_type": "code",
   "execution_count": 37,
   "metadata": {},
   "outputs": [
    {
     "name": "stdout",
     "output_type": "stream",
     "text": [
      "원본 : ,,,DaveLee...\n",
      "strip(\",\") 결과 : DaveLee...\n",
      "strip(\".\") 결과 : ,,,DaveLee\n"
     ]
    }
   ],
   "source": [
    "some_string = \",,,DaveLee...\"\n",
    "result1 = some_string.strip(\",\")\n",
    "result2 = some_string.strip(\".\")\n",
    "print(\"원본 : %s\" %some_string)\n",
    "print(\"strip(\\\",\\\") 결과 : %s\\nstrip(\\\".\\\") 결과 : %s\" %(result1, result2))"
   ]
  },
  {
   "cell_type": "code",
   "execution_count": 39,
   "metadata": {},
   "outputs": [
    {
     "name": "stdout",
     "output_type": "stream",
     "text": [
      "quot : 3, rem : 1\n"
     ]
    }
   ],
   "source": [
    "def quot_and_rem(x,y):\n",
    "    quot = x//y\n",
    "    rem = x%y\n",
    "    return (quot, rem)\n",
    "\n",
    "(quot, rem) = quot_and_rem(10,3)\n",
    "print(\"quot : %s, rem : %s\" %(quot, rem))"
   ]
  },
  {
   "cell_type": "markdown",
   "metadata": {},
   "source": [
    "## 리스트 <-> 튜플"
   ]
  },
  {
   "cell_type": "code",
   "execution_count": 40,
   "metadata": {},
   "outputs": [
    {
     "data": {
      "text/plain": [
       "(1, 2)"
      ]
     },
     "execution_count": 40,
     "metadata": {},
     "output_type": "execute_result"
    }
   ],
   "source": [
    "list((1,2))\n",
    "tuple([1,2])"
   ]
  },
  {
   "cell_type": "markdown",
   "metadata": {},
   "source": [
    "## 딕셔너리"
   ]
  },
  {
   "cell_type": "code",
   "execution_count": 44,
   "metadata": {},
   "outputs": [
    {
     "name": "stdout",
     "output_type": "stream",
     "text": [
      "{}\n",
      "{'korean': 95, 'math': 100, 'science': [80, 70, 60, 50]}\n",
      "{'korean': 95, 'math': 100, 'science': [80, 70, 60, 50], 'english': 'pass'}\n"
     ]
    }
   ],
   "source": [
    "dict1 = {}\n",
    "print(dict1)\n",
    "dict2 = {'korean' : 95, 'math' : 100, 'science' : [80,70,60,50]}\n",
    "print(dict2)\n",
    "dict2['english'] = \"pass\"\n",
    "print(dict2)"
   ]
  },
  {
   "cell_type": "code",
   "execution_count": 45,
   "metadata": {},
   "outputs": [
    {
     "name": "stdout",
     "output_type": "stream",
     "text": [
      "{'korean': 95, 'science': [80, 70, 60, 50], 'english': 'pass'}\n"
     ]
    }
   ],
   "source": [
    "del dict2['math']\n",
    "print(dict2)"
   ]
  },
  {
   "cell_type": "code",
   "execution_count": 46,
   "metadata": {},
   "outputs": [
    {
     "name": "stdout",
     "output_type": "stream",
     "text": [
      "95\n"
     ]
    }
   ],
   "source": [
    "print(dict2['korean'])"
   ]
  },
  {
   "cell_type": "code",
   "execution_count": 47,
   "metadata": {},
   "outputs": [
    {
     "name": "stdout",
     "output_type": "stream",
     "text": [
      "dict_keys(['korean', 'science', 'english'])\n"
     ]
    }
   ],
   "source": [
    "print(dict2.keys())"
   ]
  },
  {
   "cell_type": "code",
   "execution_count": 48,
   "metadata": {},
   "outputs": [
    {
     "name": "stdout",
     "output_type": "stream",
     "text": [
      "dict_values([95, [80, 70, 60, 50], 'pass'])\n"
     ]
    }
   ],
   "source": [
    "print(dict2.values())"
   ]
  },
  {
   "cell_type": "code",
   "execution_count": 49,
   "metadata": {},
   "outputs": [
    {
     "name": "stdout",
     "output_type": "stream",
     "text": [
      "dict_items([('korean', 95), ('science', [80, 70, 60, 50]), ('english', 'pass')])\n"
     ]
    }
   ],
   "source": [
    "print(dict2.items())"
   ]
  },
  {
   "cell_type": "markdown",
   "metadata": {},
   "source": [
    "## 데이터 구조 (집합 또는 set)"
   ]
  },
  {
   "cell_type": "code",
   "execution_count": 58,
   "metadata": {},
   "outputs": [
    {
     "name": "stdout",
     "output_type": "stream",
     "text": [
      "{'pineapple', 'apple', 'pen'}\n",
      "True\n",
      "False\n"
     ]
    },
    {
     "data": {
      "text/plain": [
       "{'a', 'e', 'i', 'l', 'n', 'p'}"
      ]
     },
     "execution_count": 58,
     "metadata": {},
     "output_type": "execute_result"
    }
   ],
   "source": [
    "ppap = {'pen', 'pineapple', 'apple', 'pen'}\n",
    "print(ppap)\n",
    "\n",
    "print('apple' in ppap)\n",
    "print('banana' in ppap)\n",
    "\n",
    "pineapple = set('pineapple') # pineapple의 각 문자를 다 나눠서 set형으로 바꾼다\n",
    "pineapple"
   ]
  },
  {
   "cell_type": "markdown",
   "metadata": {},
   "source": [
    "### set 계산\n",
    "A ∪ B\t== `A | B` <br>\n",
    "A ∩ B\t== `A & B` <br>\n",
    "A - B\t== `A - B` <br>\n",
    "A &#916; B \t== `A ^ B`"
   ]
  },
  {
   "cell_type": "code",
   "execution_count": 59,
   "metadata": {},
   "outputs": [],
   "source": [
    "a = {1,2,3}\n",
    "b = {4,5,6}"
   ]
  },
  {
   "cell_type": "code",
   "execution_count": 60,
   "metadata": {},
   "outputs": [
    {
     "data": {
      "text/plain": [
       "{1, 2, 3, 4, 5, 6}"
      ]
     },
     "execution_count": 60,
     "metadata": {},
     "output_type": "execute_result"
    }
   ],
   "source": [
    "a | b"
   ]
  },
  {
   "cell_type": "code",
   "execution_count": 61,
   "metadata": {},
   "outputs": [
    {
     "data": {
      "text/plain": [
       "set()"
      ]
     },
     "execution_count": 61,
     "metadata": {},
     "output_type": "execute_result"
    }
   ],
   "source": [
    "a & b"
   ]
  },
  {
   "cell_type": "code",
   "execution_count": 62,
   "metadata": {},
   "outputs": [
    {
     "data": {
      "text/plain": [
       "{1, 2, 3}"
      ]
     },
     "execution_count": 62,
     "metadata": {},
     "output_type": "execute_result"
    }
   ],
   "source": [
    "a - b"
   ]
  },
  {
   "cell_type": "code",
   "execution_count": 63,
   "metadata": {},
   "outputs": [
    {
     "data": {
      "text/plain": [
       "{1, 2, 3, 4, 5, 6}"
      ]
     },
     "execution_count": 63,
     "metadata": {},
     "output_type": "execute_result"
    }
   ],
   "source": [
    "a ^ b"
   ]
  },
  {
   "cell_type": "code",
   "execution_count": 64,
   "metadata": {},
   "outputs": [
    {
     "name": "stdout",
     "output_type": "stream",
     "text": [
      "Requirement already satisfied: flask in c:\\anaconda3\\lib\\site-packages (1.1.1)\n",
      "Requirement already satisfied: Werkzeug>=0.15 in c:\\anaconda3\\lib\\site-packages (from flask) (1.0.0)\n",
      "Requirement already satisfied: click>=5.1 in c:\\anaconda3\\lib\\site-packages (from flask) (7.0)\n",
      "Requirement already satisfied: itsdangerous>=0.24 in c:\\anaconda3\\lib\\site-packages (from flask) (1.1.0)\n",
      "Requirement already satisfied: Jinja2>=2.10.1 in c:\\anaconda3\\lib\\site-packages (from flask) (2.11.1)\n",
      "Requirement already satisfied: MarkupSafe>=0.23 in c:\\anaconda3\\lib\\site-packages (from Jinja2>=2.10.1->flask) (1.1.1)\n"
     ]
    }
   ],
   "source": [
    "!pip install flask"
   ]
  },
  {
   "cell_type": "code",
   "execution_count": 1,
   "metadata": {},
   "outputs": [],
   "source": [
    "from flask import Flask # import 뒤의 Flask는 클래스."
   ]
  },
  {
   "cell_type": "code",
   "execution_count": null,
   "metadata": {},
   "outputs": [
    {
     "name": "stdout",
     "output_type": "stream",
     "text": [
      " * Serving Flask app \"__main__\" (lazy loading)\n",
      " * Environment: production\n",
      "   WARNING: This is a development server. Do not use it in a production deployment.\n",
      "   Use a production WSGI server instead.\n",
      " * Debug mode: off\n"
     ]
    },
    {
     "name": "stderr",
     "output_type": "stream",
     "text": [
      " * Running on http://127.0.0.1:8080/ (Press CTRL+C to quit)\n",
      "127.0.0.1 - - [08/Oct/2020 23:24:47] \"\u001b[33mGET / HTTP/1.1\u001b[0m\" 404 -\n",
      "127.0.0.1 - - [08/Oct/2020 23:24:47] \"\u001b[33mGET /favicon.ico HTTP/1.1\u001b[0m\" 404 -\n",
      "127.0.0.1 - - [08/Oct/2020 23:24:52] \"\u001b[37mGET /hello HTTP/1.1\u001b[0m\" 200 -\n"
     ]
    }
   ],
   "source": [
    "app = Flask(__name__)\n",
    "@app.route(\"/hello\")\n",
    "def hello():\n",
    "    return \"Hello Flask!\"\n",
    "\n",
    "if __name__ == \"__main__\":\n",
    "    app.run(host=\"127.0.0.1\", port=\"8080\")"
   ]
  },
  {
   "cell_type": "code",
   "execution_count": null,
   "metadata": {},
   "outputs": [],
   "source": []
  }
 ],
 "metadata": {
  "kernelspec": {
   "display_name": "Python 3",
   "language": "python",
   "name": "python3"
  },
  "language_info": {
   "codemirror_mode": {
    "name": "ipython",
    "version": 3
   },
   "file_extension": ".py",
   "mimetype": "text/x-python",
   "name": "python",
   "nbconvert_exporter": "python",
   "pygments_lexer": "ipython3",
   "version": "3.7.6"
  }
 },
 "nbformat": 4,
 "nbformat_minor": 4
}
