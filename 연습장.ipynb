{
 "cells": [
  {
   "cell_type": "markdown",
   "metadata": {},
   "source": [
    "## python core summary 따라하기"
   ]
  },
  {
   "cell_type": "markdown",
   "metadata": {},
   "source": [
    "### Small Project 1\n",
    "* 변수 이름 10개 만들어보기\n",
    "    * 나이, 이름, 키, 몸무게, 발사이즈, 안경 유무, 결혼 유무, 성별, 취미, 특기\n",
    "    * 변수 이름 만들 때, 영문으로 시작하기"
   ]
  },
  {
   "cell_type": "code",
   "execution_count": 13,
   "metadata": {},
   "outputs": [],
   "source": [
    "age = 26\n",
    "height = 173\n",
    "weight = 72\n",
    "foot = 265\n",
    "glasses = 1\n",
    "married = 0\n",
    "sex = \"male\"\n",
    "hobby = \"reading\"\n",
    "specialty = \"rap\""
   ]
  },
  {
   "cell_type": "markdown",
   "metadata": {},
   "source": [
    "* 느낀점\n",
    "    1. 오랜만에 해서 파이썬은 자료형 타입을 선언하지 않아도 되었다는 것을 간과했다.\n",
    "    2. 콤마로 이어서 변수 선언을 하면 안된다는 것을 몰랐다."
   ]
  },
  {
   "cell_type": "markdown",
   "metadata": {},
   "source": [
    "## Small Project2\n",
    "* 반지름(r=10)을 선언한 뒤, 이를 이용하여 원의 지름, 둘레(2 * pi * r), 넓이(r * r * pi)를 각각 출력하는 파이썬 파일을 만들어보세요.(pi=3.1415)"
   ]
  },
  {
   "cell_type": "code",
   "execution_count": 16,
   "metadata": {},
   "outputs": [
    {
     "name": "stdout",
     "output_type": "stream",
     "text": [
      "원의 지름 :  20\n",
      "원의 둘레 :  62.830000000000005\n",
      "원의 넓이 :  314.15000000000003\n"
     ]
    }
   ],
   "source": [
    "r = 10\n",
    "pi = 3.1415\n",
    "print(\"원의 지름 : \", r*2)\n",
    "print(\"원의 둘레 : \", 2 * pi * r)\n",
    "print(\"원의 넓이 : \", r * r * pi)"
   ]
  },
  {
   "cell_type": "markdown",
   "metadata": {},
   "source": [
    "# ======================"
   ]
  },
  {
   "cell_type": "code",
   "execution_count": 28,
   "metadata": {},
   "outputs": [
    {
     "name": "stdout",
     "output_type": "stream",
     "text": [
      "이름을 입력하세요 : 이경준\n",
      "환영합니다, 이경준님\n"
     ]
    }
   ],
   "source": [
    "name = input(\"이름을 입력하세요 : \")\n",
    "print(\"환영합니다, %s님\" %name)"
   ]
  },
  {
   "cell_type": "markdown",
   "metadata": {},
   "source": [
    "* print문에서 %로 출력할 때의 방법을 계속 까먹는다. dot이나 comma를 쓰면 안된다!"
   ]
  },
  {
   "cell_type": "code",
   "execution_count": 30,
   "metadata": {},
   "outputs": [
    {
     "name": "stdout",
     "output_type": "stream",
     "text": [
      "정수 A의 값을 입력하세요 : 15\n",
      "정수 B의 값을 입력하세요 : 20\n",
      "A + B = 35\n"
     ]
    }
   ],
   "source": [
    "A = int(input(\"정수 A의 값을 입력하세요 : \"))\n",
    "B = int(input(\"정수 B의 값을 입력하세요 : \"))\n",
    "print(\"A + B = %s\" %(A+B))"
   ]
  },
  {
   "cell_type": "markdown",
   "metadata": {},
   "source": [
    "markdown에서 굵게 하려면 애스터리스크 두개로 앞뒤를 감싸면 된다. **이렇게**\n",
    ">그리고 맨 첫 줄에 >으로 이것처럼 가능\n",
    "```\n",
    "위아래를 ```으로 감싸면 코드처럼 가능\n",
    "like this\n",
    "```\n"
   ]
  },
  {
   "cell_type": "code",
   "execution_count": 37,
   "metadata": {},
   "outputs": [
    {
     "name": "stdout",
     "output_type": "stream",
     "text": [
      "원본 : ,,,DaveLee...\n",
      "strip(\",\") 결과 : DaveLee...\n",
      "strip(\".\") 결과 : ,,,DaveLee\n"
     ]
    }
   ],
   "source": [
    "some_string = \",,,DaveLee...\"\n",
    "result1 = some_string.strip(\",\")\n",
    "result2 = some_string.strip(\".\")\n",
    "print(\"원본 : %s\" %some_string)\n",
    "print(\"strip(\\\",\\\") 결과 : %s\\nstrip(\\\".\\\") 결과 : %s\" %(result1, result2))"
   ]
  },
  {
   "cell_type": "code",
   "execution_count": 39,
   "metadata": {},
   "outputs": [
    {
     "name": "stdout",
     "output_type": "stream",
     "text": [
      "quot : 3, rem : 1\n"
     ]
    }
   ],
   "source": [
    "def quot_and_rem(x,y):\n",
    "    quot = x//y\n",
    "    rem = x%y\n",
    "    return (quot, rem)\n",
    "\n",
    "(quot, rem) = quot_and_rem(10,3)\n",
    "print(\"quot : %s, rem : %s\" %(quot, rem))"
   ]
  },
  {
   "cell_type": "markdown",
   "metadata": {},
   "source": [
    "## 리스트 <-> 튜플"
   ]
  },
  {
   "cell_type": "code",
   "execution_count": 40,
   "metadata": {},
   "outputs": [
    {
     "data": {
      "text/plain": [
       "(1, 2)"
      ]
     },
     "execution_count": 40,
     "metadata": {},
     "output_type": "execute_result"
    }
   ],
   "source": [
    "list((1,2))\n",
    "tuple([1,2])"
   ]
  },
  {
   "cell_type": "markdown",
   "metadata": {},
   "source": [
    "## 딕셔너리"
   ]
  },
  {
   "cell_type": "code",
   "execution_count": 44,
   "metadata": {},
   "outputs": [
    {
     "name": "stdout",
     "output_type": "stream",
     "text": [
      "{}\n",
      "{'korean': 95, 'math': 100, 'science': [80, 70, 60, 50]}\n",
      "{'korean': 95, 'math': 100, 'science': [80, 70, 60, 50], 'english': 'pass'}\n"
     ]
    }
   ],
   "source": [
    "dict1 = {}\n",
    "print(dict1)\n",
    "dict2 = {'korean' : 95, 'math' : 100, 'science' : [80,70,60,50]}\n",
    "print(dict2)\n",
    "dict2['english'] = \"pass\"\n",
    "print(dict2)"
   ]
  },
  {
   "cell_type": "code",
   "execution_count": 45,
   "metadata": {},
   "outputs": [
    {
     "name": "stdout",
     "output_type": "stream",
     "text": [
      "{'korean': 95, 'science': [80, 70, 60, 50], 'english': 'pass'}\n"
     ]
    }
   ],
   "source": [
    "del dict2['math']\n",
    "print(dict2)"
   ]
  },
  {
   "cell_type": "code",
   "execution_count": 46,
   "metadata": {},
   "outputs": [
    {
     "name": "stdout",
     "output_type": "stream",
     "text": [
      "95\n"
     ]
    }
   ],
   "source": [
    "print(dict2['korean'])"
   ]
  },
  {
   "cell_type": "code",
   "execution_count": 47,
   "metadata": {},
   "outputs": [
    {
     "name": "stdout",
     "output_type": "stream",
     "text": [
      "dict_keys(['korean', 'science', 'english'])\n"
     ]
    }
   ],
   "source": [
    "print(dict2.keys())"
   ]
  },
  {
   "cell_type": "code",
   "execution_count": 48,
   "metadata": {},
   "outputs": [
    {
     "name": "stdout",
     "output_type": "stream",
     "text": [
      "dict_values([95, [80, 70, 60, 50], 'pass'])\n"
     ]
    }
   ],
   "source": [
    "print(dict2.values())"
   ]
  },
  {
   "cell_type": "code",
   "execution_count": 49,
   "metadata": {},
   "outputs": [
    {
     "name": "stdout",
     "output_type": "stream",
     "text": [
      "dict_items([('korean', 95), ('science', [80, 70, 60, 50]), ('english', 'pass')])\n"
     ]
    }
   ],
   "source": [
    "print(dict2.items())"
   ]
  },
  {
   "cell_type": "markdown",
   "metadata": {},
   "source": [
    "## 데이터 구조 (집합 또는 set)"
   ]
  },
  {
   "cell_type": "code",
   "execution_count": 58,
   "metadata": {},
   "outputs": [
    {
     "name": "stdout",
     "output_type": "stream",
     "text": [
      "{'pineapple', 'apple', 'pen'}\n",
      "True\n",
      "False\n"
     ]
    },
    {
     "data": {
      "text/plain": [
       "{'a', 'e', 'i', 'l', 'n', 'p'}"
      ]
     },
     "execution_count": 58,
     "metadata": {},
     "output_type": "execute_result"
    }
   ],
   "source": [
    "ppap = {'pen', 'pineapple', 'apple', 'pen'}\n",
    "print(ppap)\n",
    "\n",
    "print('apple' in ppap)\n",
    "print('banana' in ppap)\n",
    "\n",
    "pineapple = set('pineapple') # pineapple의 각 문자를 다 나눠서 set형으로 바꾼다\n",
    "pineapple"
   ]
  },
  {
   "cell_type": "markdown",
   "metadata": {},
   "source": [
    "### set 계산\n",
    "A ∪ B\t== `A | B` <br>\n",
    "A ∩ B\t== `A & B` <br>\n",
    "A - B\t== `A - B` <br>\n",
    "A &#916; B \t== `A ^ B`"
   ]
  },
  {
   "cell_type": "code",
   "execution_count": 59,
   "metadata": {},
   "outputs": [],
   "source": [
    "a = {1,2,3}\n",
    "b = {4,5,6}"
   ]
  },
  {
   "cell_type": "code",
   "execution_count": 60,
   "metadata": {},
   "outputs": [
    {
     "data": {
      "text/plain": [
       "{1, 2, 3, 4, 5, 6}"
      ]
     },
     "execution_count": 60,
     "metadata": {},
     "output_type": "execute_result"
    }
   ],
   "source": [
    "a | b"
   ]
  },
  {
   "cell_type": "code",
   "execution_count": 61,
   "metadata": {},
   "outputs": [
    {
     "data": {
      "text/plain": [
       "set()"
      ]
     },
     "execution_count": 61,
     "metadata": {},
     "output_type": "execute_result"
    }
   ],
   "source": [
    "a & b"
   ]
  },
  {
   "cell_type": "code",
   "execution_count": 62,
   "metadata": {},
   "outputs": [
    {
     "data": {
      "text/plain": [
       "{1, 2, 3}"
      ]
     },
     "execution_count": 62,
     "metadata": {},
     "output_type": "execute_result"
    }
   ],
   "source": [
    "a - b"
   ]
  },
  {
   "cell_type": "code",
   "execution_count": 63,
   "metadata": {},
   "outputs": [
    {
     "data": {
      "text/plain": [
       "{1, 2, 3, 4, 5, 6}"
      ]
     },
     "execution_count": 63,
     "metadata": {},
     "output_type": "execute_result"
    }
   ],
   "source": [
    "a ^ b"
   ]
  },
  {
   "cell_type": "code",
   "execution_count": 64,
   "metadata": {},
   "outputs": [
    {
     "name": "stdout",
     "output_type": "stream",
     "text": [
      "Requirement already satisfied: flask in c:\\anaconda3\\lib\\site-packages (1.1.1)\n",
      "Requirement already satisfied: Werkzeug>=0.15 in c:\\anaconda3\\lib\\site-packages (from flask) (1.0.0)\n",
      "Requirement already satisfied: click>=5.1 in c:\\anaconda3\\lib\\site-packages (from flask) (7.0)\n",
      "Requirement already satisfied: itsdangerous>=0.24 in c:\\anaconda3\\lib\\site-packages (from flask) (1.1.0)\n",
      "Requirement already satisfied: Jinja2>=2.10.1 in c:\\anaconda3\\lib\\site-packages (from flask) (2.11.1)\n",
      "Requirement already satisfied: MarkupSafe>=0.23 in c:\\anaconda3\\lib\\site-packages (from Jinja2>=2.10.1->flask) (1.1.1)\n"
     ]
    }
   ],
   "source": [
    "!pip install flask"
   ]
  },
  {
   "cell_type": "code",
   "execution_count": 1,
   "metadata": {},
   "outputs": [],
   "source": [
    "from flask import Flask # import 뒤의 Flask는 클래스.\n",
    "\n",
    "app = Flask(__name__)\n",
    "@app.route(\"/hello\")\n",
    "def hello():\n",
    "    return \"Hello Flask!\"\n",
    "\n",
    "if __name__ == \"__main__\":\n",
    "    app.run(host=\"127.0.0.1\", port=\"8080\")"
   ]
  },
  {
   "cell_type": "markdown",
   "metadata": {},
   "source": [
    "### 데코레이터의 이해"
   ]
  },
  {
   "cell_type": "markdown",
   "metadata": {},
   "source": [
    "### 중첩 함수(Nested Function)"
   ]
  },
  {
   "cell_type": "code",
   "execution_count": 7,
   "metadata": {},
   "outputs": [],
   "source": [
    "def outer_func():\n",
    "    print(\"외부함수 실행\")\n",
    "    \n",
    "    def inner_func():\n",
    "        return '내부함수 실행' # return으로하고 외부 함수에 inner_func()를 출력하도록 하네.\n",
    "#         print(\"내부함수 실행\")\n",
    "\n",
    "    print(inner_func())"
   ]
  },
  {
   "cell_type": "code",
   "execution_count": 8,
   "metadata": {},
   "outputs": [
    {
     "name": "stdout",
     "output_type": "stream",
     "text": [
      "외부함수 실행\n",
      "내부함수 실행\n"
     ]
    }
   ],
   "source": [
    "outer_func()"
   ]
  },
  {
   "cell_type": "markdown",
   "metadata": {},
   "source": [
    "### 중첩함수의 내부 함수를 함수 밖에서도 출력할 수 있게 도와주는 First-class function과 closure"
   ]
  },
  {
   "cell_type": "code",
   "execution_count": 13,
   "metadata": {},
   "outputs": [],
   "source": [
    "def outer_func(num):\n",
    "    print(\"외부함수 실행\")\n",
    "    \n",
    "    def inner_func():\n",
    "        print(num)\n",
    "        return '내부함수 리턴값'\n",
    "    \n",
    "    return inner_func"
   ]
  },
  {
   "cell_type": "code",
   "execution_count": 14,
   "metadata": {},
   "outputs": [
    {
     "name": "stdout",
     "output_type": "stream",
     "text": [
      "외부함수 실행\n",
      "10\n",
      "내부함수 리턴값\n"
     ]
    }
   ],
   "source": [
    "fn = outer_func(10) # First-class function\n",
    "print(fn()) # closure 호출"
   ]
  },
  {
   "cell_type": "markdown",
   "metadata": {},
   "source": [
    "### First-class function - 다른 변수에 함수 할당 가능"
   ]
  },
  {
   "cell_type": "code",
   "execution_count": 16,
   "metadata": {},
   "outputs": [
    {
     "data": {
      "text/plain": [
       "4"
      ]
     },
     "execution_count": 16,
     "metadata": {},
     "output_type": "execute_result"
    }
   ],
   "source": [
    "def calc_square(digit):\n",
    "    return digit * digit\n",
    "calc_square(2)"
   ]
  },
  {
   "cell_type": "code",
   "execution_count": 19,
   "metadata": {},
   "outputs": [
    {
     "data": {
      "text/plain": [
       "16"
      ]
     },
     "execution_count": 19,
     "metadata": {},
     "output_type": "execute_result"
    }
   ],
   "source": [
    "func1 = calc_square\n",
    "func1(4)"
   ]
  },
  {
   "cell_type": "markdown",
   "metadata": {},
   "source": [
    "### First_class function - 함수를 다른 함수의 인자로 삽입 가능"
   ]
  },
  {
   "cell_type": "code",
   "execution_count": 26,
   "metadata": {},
   "outputs": [],
   "source": [
    "def clac_quad(digit):\n",
    "    return digit*digit*digit*digit\n",
    "\n",
    "def list_square(func, digit_list):\n",
    "    result = list()\n",
    "    for digit in digit_list:\n",
    "        result.append(func(digit)) #digit_list의 리스트 원소를 인자로 받은 함수에 하나하나씩 넣어서 결과 만듬\n",
    "    print(result)\n",
    "\n",
    "list_1to5 = [1,2,3,4,5]"
   ]
  },
  {
   "cell_type": "code",
   "execution_count": 27,
   "metadata": {},
   "outputs": [
    {
     "name": "stdout",
     "output_type": "stream",
     "text": [
      "[1, 16, 81, 256, 625]\n"
     ]
    }
   ],
   "source": [
    "list_square(clac_quad, list_1to5)"
   ]
  },
  {
   "cell_type": "code",
   "execution_count": 28,
   "metadata": {},
   "outputs": [],
   "source": [
    "def logger(msg):\n",
    "    message = msg\n",
    "    def msg_creator():\n",
    "        print('[High Level] : %s' %msg)\n",
    "    return msg_creator"
   ]
  },
  {
   "cell_type": "code",
   "execution_count": 29,
   "metadata": {},
   "outputs": [],
   "source": [
    "log1 = logger('LKJ login')"
   ]
  },
  {
   "cell_type": "code",
   "execution_count": 30,
   "metadata": {},
   "outputs": [
    {
     "data": {
      "text/plain": [
       "<function __main__.logger.<locals>.msg_creator()>"
      ]
     },
     "execution_count": 30,
     "metadata": {},
     "output_type": "execute_result"
    }
   ],
   "source": [
    "log1"
   ]
  },
  {
   "cell_type": "code",
   "execution_count": 31,
   "metadata": {},
   "outputs": [
    {
     "name": "stdout",
     "output_type": "stream",
     "text": [
      "[High Level] : LKJ login\n"
     ]
    }
   ],
   "source": [
    "log1()"
   ]
  },
  {
   "cell_type": "markdown",
   "metadata": {},
   "source": [
    "함수를 대입한 변수에 ()를 넣어야 비로소 함수의 기능을 하는 것이 신기하다."
   ]
  },
  {
   "cell_type": "markdown",
   "metadata": {},
   "source": [
    "### First-class function - 활용"
   ]
  },
  {
   "cell_type": "markdown",
   "metadata": {},
   "source": [
    "함수 리턴할 때는 () 쓰지 않고 하는 듯."
   ]
  },
  {
   "cell_type": "code",
   "execution_count": 43,
   "metadata": {},
   "outputs": [],
   "source": [
    "# html 태그 자동 생성\n",
    "def html_creator(tag):\n",
    "    def msg_creator(msg):\n",
    "        print(\"<{0}>{1}</{0}>\" . format(tag, msg))\n",
    "    return msg_creator"
   ]
  },
  {
   "cell_type": "code",
   "execution_count": 44,
   "metadata": {},
   "outputs": [],
   "source": [
    "h1_html_creator = html_creator('h1')"
   ]
  },
  {
   "cell_type": "code",
   "execution_count": 45,
   "metadata": {},
   "outputs": [
    {
     "data": {
      "text/plain": [
       "<function __main__.html_creator.<locals>.msg_creator(msg)>"
      ]
     },
     "execution_count": 45,
     "metadata": {},
     "output_type": "execute_result"
    }
   ],
   "source": [
    "h1_html_creator"
   ]
  },
  {
   "cell_type": "code",
   "execution_count": 46,
   "metadata": {},
   "outputs": [
    {
     "name": "stdout",
     "output_type": "stream",
     "text": [
      "<h1>h1태그 자동 생성띠</h1>\n"
     ]
    }
   ],
   "source": [
    "h1_html_creator('h1태그 자동 생성띠')"
   ]
  },
  {
   "cell_type": "code",
   "execution_count": 47,
   "metadata": {},
   "outputs": [],
   "source": [
    "div_html_creator = html_creator(\"div\")"
   ]
  },
  {
   "cell_type": "code",
   "execution_count": 48,
   "metadata": {},
   "outputs": [
    {
     "data": {
      "text/plain": [
       "<function __main__.html_creator.<locals>.msg_creator(msg)>"
      ]
     },
     "execution_count": 48,
     "metadata": {},
     "output_type": "execute_result"
    }
   ],
   "source": [
    "div_html_creator"
   ]
  },
  {
   "cell_type": "code",
   "execution_count": 49,
   "metadata": {},
   "outputs": [
    {
     "name": "stdout",
     "output_type": "stream",
     "text": [
      "<div>div 태그 자동 생성띠띠</div>\n"
     ]
    }
   ],
   "source": [
    "div_html_creator(\"div 태그 자동 생성띠띠\")"
   ]
  },
  {
   "cell_type": "code",
   "execution_count": 64,
   "metadata": {},
   "outputs": [],
   "source": [
    "# 목차 기호 입력하고, 들어갈 문자열을 리스트로 넣기\n",
    "def index_creator(sign):\n",
    "    def msg_creator(content_list):\n",
    "        for content in content_list :\n",
    "            print(\"{0} {1}\" . format(sign, content))\n",
    "    return msg_creator"
   ]
  },
  {
   "cell_type": "code",
   "execution_count": 65,
   "metadata": {},
   "outputs": [],
   "source": [
    "list_data = [\"서론\", \"개요\", \"실험과정\", \"결론\"]"
   ]
  },
  {
   "cell_type": "code",
   "execution_count": 66,
   "metadata": {},
   "outputs": [
    {
     "data": {
      "text/plain": [
       "<function __main__.index_creator.<locals>.msg_creator(content_list)>"
      ]
     },
     "execution_count": 66,
     "metadata": {},
     "output_type": "execute_result"
    }
   ],
   "source": [
    "star_index_creator = index_creator('*')\n",
    "star_index_creator"
   ]
  },
  {
   "cell_type": "code",
   "execution_count": 67,
   "metadata": {},
   "outputs": [
    {
     "name": "stdout",
     "output_type": "stream",
     "text": [
      "* 서론\n",
      "* 개요\n",
      "* 실험과정\n",
      "* 결론\n"
     ]
    }
   ],
   "source": [
    "star_index_creator(list_data)"
   ]
  },
  {
   "cell_type": "code",
   "execution_count": 7,
   "metadata": {},
   "outputs": [],
   "source": [
    "def html_creator(tag):\n",
    "    def text_wrapper(msg):\n",
    "        print(\"<{0}>{1}</{0}>\" . format(msg, tag))\n",
    "    return text_wrapper"
   ]
  },
  {
   "cell_type": "code",
   "execution_count": 8,
   "metadata": {},
   "outputs": [
    {
     "name": "stdout",
     "output_type": "stream",
     "text": [
      "<function html_creator.<locals>.text_wrapper at 0x000002B228531318>\n"
     ]
    }
   ],
   "source": [
    "h1_html_creator = html_creator('h1')\n",
    "print(h1_html_creator)"
   ]
  },
  {
   "cell_type": "code",
   "execution_count": 9,
   "metadata": {},
   "outputs": [
    {
     "name": "stdout",
     "output_type": "stream",
     "text": [
      "<임수민 바보쉑>h1</임수민 바보쉑>\n"
     ]
    }
   ],
   "source": [
    "h1_html_creator(\"임수민 바보쉑\")"
   ]
  },
  {
   "cell_type": "markdown",
   "metadata": {},
   "source": [
    "# 3. flask와 Rest API 실습"
   ]
  },
  {
   "cell_type": "code",
   "execution_count": 1,
   "metadata": {},
   "outputs": [],
   "source": [
    "class ClassTest:\n",
    "    pass\n",
    "class ClassCol:\n",
    "    pass\n",
    "square = ClassTest()"
   ]
  },
  {
   "cell_type": "code",
   "execution_count": 2,
   "metadata": {},
   "outputs": [
    {
     "data": {
      "text/plain": [
       "['__class__',\n",
       " '__delattr__',\n",
       " '__dict__',\n",
       " '__dir__',\n",
       " '__doc__',\n",
       " '__eq__',\n",
       " '__format__',\n",
       " '__ge__',\n",
       " '__getattribute__',\n",
       " '__gt__',\n",
       " '__hash__',\n",
       " '__init__',\n",
       " '__init_subclass__',\n",
       " '__le__',\n",
       " '__lt__',\n",
       " '__module__',\n",
       " '__ne__',\n",
       " '__new__',\n",
       " '__reduce__',\n",
       " '__reduce_ex__',\n",
       " '__repr__',\n",
       " '__setattr__',\n",
       " '__sizeof__',\n",
       " '__str__',\n",
       " '__subclasshook__',\n",
       " '__weakref__']"
      ]
     },
     "execution_count": 2,
     "metadata": {},
     "output_type": "execute_result"
    }
   ],
   "source": [
    "dir(square)"
   ]
  },
  {
   "cell_type": "code",
   "execution_count": 3,
   "metadata": {},
   "outputs": [
    {
     "data": {
      "text/plain": [
       "__main__.ClassTest"
      ]
     },
     "execution_count": 3,
     "metadata": {},
     "output_type": "execute_result"
    }
   ],
   "source": [
    "type(square)"
   ]
  },
  {
   "cell_type": "code",
   "execution_count": 4,
   "metadata": {},
   "outputs": [],
   "source": [
    "class Quadrandle:\n",
    "    def __init__(self, width, height, color):\n",
    "        self.width = width\n",
    "        self.height = height\n",
    "        self.color = color"
   ]
  },
  {
   "cell_type": "code",
   "execution_count": 5,
   "metadata": {},
   "outputs": [
    {
     "data": {
      "text/plain": [
       "['__class__',\n",
       " '__delattr__',\n",
       " '__dict__',\n",
       " '__dir__',\n",
       " '__doc__',\n",
       " '__eq__',\n",
       " '__format__',\n",
       " '__ge__',\n",
       " '__getattribute__',\n",
       " '__gt__',\n",
       " '__hash__',\n",
       " '__init__',\n",
       " '__init_subclass__',\n",
       " '__le__',\n",
       " '__lt__',\n",
       " '__module__',\n",
       " '__ne__',\n",
       " '__new__',\n",
       " '__reduce__',\n",
       " '__reduce_ex__',\n",
       " '__repr__',\n",
       " '__setattr__',\n",
       " '__sizeof__',\n",
       " '__str__',\n",
       " '__subclasshook__',\n",
       " '__weakref__']"
      ]
     },
     "execution_count": 5,
     "metadata": {},
     "output_type": "execute_result"
    }
   ],
   "source": [
    "dir(Quadrandle)"
   ]
  },
  {
   "cell_type": "code",
   "execution_count": 8,
   "metadata": {},
   "outputs": [],
   "source": [
    "square1 = Quadrandle(12, 12, 'red')\n",
    "square2 = Quadrandle(14, 15, 'blue')"
   ]
  },
  {
   "cell_type": "code",
   "execution_count": 9,
   "metadata": {
    "scrolled": true
   },
   "outputs": [
    {
     "data": {
      "text/plain": [
       "['__class__',\n",
       " '__delattr__',\n",
       " '__dict__',\n",
       " '__dir__',\n",
       " '__doc__',\n",
       " '__eq__',\n",
       " '__format__',\n",
       " '__ge__',\n",
       " '__getattribute__',\n",
       " '__gt__',\n",
       " '__hash__',\n",
       " '__init__',\n",
       " '__init_subclass__',\n",
       " '__le__',\n",
       " '__lt__',\n",
       " '__module__',\n",
       " '__ne__',\n",
       " '__new__',\n",
       " '__reduce__',\n",
       " '__reduce_ex__',\n",
       " '__repr__',\n",
       " '__setattr__',\n",
       " '__sizeof__',\n",
       " '__str__',\n",
       " '__subclasshook__',\n",
       " '__weakref__',\n",
       " 'color',\n",
       " 'height',\n",
       " 'width']"
      ]
     },
     "execution_count": 9,
     "metadata": {},
     "output_type": "execute_result"
    }
   ],
   "source": [
    "dir(square1)"
   ]
  },
  {
   "cell_type": "code",
   "execution_count": 40,
   "metadata": {},
   "outputs": [],
   "source": [
    "class Quadrandle :\n",
    "    def __init__(self, width, height, color) :\n",
    "        self.width = width\n",
    "        self.height = height\n",
    "        self.color = color\n",
    "        \n",
    "    def get_area(self) :\n",
    "        return self.width * self.height\n",
    "    \n",
    "    def set_area(self, data1, data2) :\n",
    "        self.width = data1\n",
    "        self.height = data2"
   ]
  },
  {
   "cell_type": "code",
   "execution_count": 41,
   "metadata": {},
   "outputs": [],
   "source": [
    "quad_practice_rect = Quadrandle(10, 5, 'red')\n",
    "quad_practice_square = Quadrandle(7, 7, 'blue')"
   ]
  },
  {
   "cell_type": "code",
   "execution_count": 34,
   "metadata": {},
   "outputs": [
    {
     "name": "stdout",
     "output_type": "stream",
     "text": [
      "10 5 red\n"
     ]
    }
   ],
   "source": [
    "print(quad_practice_rect.width, quad_practice_rect.height, quad_practice_rect.color)"
   ]
  },
  {
   "cell_type": "code",
   "execution_count": 35,
   "metadata": {},
   "outputs": [
    {
     "name": "stdout",
     "output_type": "stream",
     "text": [
      "7 7 blue\n"
     ]
    }
   ],
   "source": [
    "print(quad_practice_square.width, quad_practice_square.height, quad_practice_square.color)"
   ]
  },
  {
   "cell_type": "code",
   "execution_count": 42,
   "metadata": {},
   "outputs": [],
   "source": [
    "quad_practice_rect.set_area(5, 5)"
   ]
  },
  {
   "cell_type": "code",
   "execution_count": 43,
   "metadata": {},
   "outputs": [
    {
     "data": {
      "text/plain": [
       "(5, 5)"
      ]
     },
     "execution_count": 43,
     "metadata": {},
     "output_type": "execute_result"
    }
   ],
   "source": [
    "quad_practice_rect.width, quad_practice_rect.height"
   ]
  },
  {
   "cell_type": "code",
   "execution_count": 46,
   "metadata": {},
   "outputs": [],
   "source": [
    "class Quadrandle :\n",
    "    def __init__(self, width, height, color):\n",
    "        self.width = width\n",
    "        self.height = height\n",
    "        self.color = color\n",
    "    \n",
    "    def get_area(self) :\n",
    "        return self.width * self.height"
   ]
  },
  {
   "cell_type": "code",
   "execution_count": 47,
   "metadata": {},
   "outputs": [],
   "source": [
    "rect1 = Quadrandle(10, 5, 'red')\n",
    "rect2 = Quadrandle(20, 10, 'orange')\n",
    "square1 = Quadrandle(30, 30, 'yellow')\n",
    "square2 = Quadrandle(40, 40, 'green')"
   ]
  },
  {
   "cell_type": "code",
   "execution_count": 48,
   "metadata": {},
   "outputs": [
    {
     "data": {
      "text/plain": [
       "(50, 200, 900, 1600)"
      ]
     },
     "execution_count": 48,
     "metadata": {},
     "output_type": "execute_result"
    }
   ],
   "source": [
    "rect1.get_area(), rect2.get_area(), square1.get_area(), square2.get_area()"
   ]
  },
  {
   "cell_type": "markdown",
   "metadata": {},
   "source": [
    "# Inheritance 연습"
   ]
  },
  {
   "cell_type": "markdown",
   "metadata": {},
   "source": [
    "* 추상화는 공통적인 메서드, 속성을 기본 클래스로 작성하는 것\n",
    "* 상속은 추상화된 클래스를 받고 자신의 클래스에 필요한 걸 추가 및 변경하는 것\n",
    "    * 상속은 클래스에 상속할 클래스명을 인자로 넣으면 됨유"
   ]
  },
  {
   "cell_type": "code",
   "execution_count": 61,
   "metadata": {},
   "outputs": [],
   "source": [
    "class Figure:\n",
    "    def __init__(self, name, color) :\n",
    "        self.name = name\n",
    "        self.color = color"
   ]
  },
  {
   "cell_type": "code",
   "execution_count": 62,
   "metadata": {},
   "outputs": [],
   "source": [
    "class Quadrandle(Figure):\n",
    "    def set_area(self, width, height) :\n",
    "        self.width = width\n",
    "        self.height = height\n",
    "    \n",
    "    def get_area(self) :\n",
    "        return self.width * self.height"
   ]
  },
  {
   "cell_type": "code",
   "execution_count": 65,
   "metadata": {},
   "outputs": [],
   "source": [
    "class Triangle(Figure):\n",
    "    def set_area(self, side):\n",
    "        self.side = side\n",
    "    \n",
    "    def get_area(self) :\n",
    "        return 3 ** 0.5 / 4 * (self.side) ** 2"
   ]
  },
  {
   "cell_type": "code",
   "execution_count": 69,
   "metadata": {},
   "outputs": [],
   "source": [
    "class Circle(Figure):\n",
    "    def set_area(self, radius) :\n",
    "        self.radius = radius\n",
    "        \n",
    "    def get_area(self) :\n",
    "        return self.radius * self.radius * 3.14"
   ]
  },
  {
   "cell_type": "code",
   "execution_count": 63,
   "metadata": {},
   "outputs": [
    {
     "data": {
      "text/plain": [
       "100"
      ]
     },
     "execution_count": 63,
     "metadata": {},
     "output_type": "execute_result"
    }
   ],
   "source": [
    "ex_quad = Quadrandle(\"상속 사각형\", \"빨간색\")\n",
    "ex_quad.set_area(10, 10)\n",
    "ex_quad.get_area()"
   ]
  },
  {
   "cell_type": "code",
   "execution_count": 67,
   "metadata": {},
   "outputs": [
    {
     "data": {
      "text/plain": [
       "6.928203230275509"
      ]
     },
     "execution_count": 67,
     "metadata": {},
     "output_type": "execute_result"
    }
   ],
   "source": [
    "ex_tri = Triangle(\"상속 삼각형\", \"주황색\")\n",
    "ex_tri.set_area(4)\n",
    "ex_tri.get_area()"
   ]
  },
  {
   "cell_type": "code",
   "execution_count": 70,
   "metadata": {},
   "outputs": [
    {
     "data": {
      "text/plain": [
       "314.0"
      ]
     },
     "execution_count": 70,
     "metadata": {},
     "output_type": "execute_result"
    }
   ],
   "source": [
    "ex_circle = Circle(\"상속 원\", \"노란색\")\n",
    "ex_circle.set_area(10)\n",
    "ex_circle.get_area()"
   ]
  },
  {
   "cell_type": "code",
   "execution_count": 74,
   "metadata": {},
   "outputs": [],
   "source": [
    "figure1 = Figure('figure1', 'black')\n",
    "square1 = Figure('square1', 'red')"
   ]
  },
  {
   "cell_type": "code",
   "execution_count": 81,
   "metadata": {},
   "outputs": [
    {
     "name": "stdout",
     "output_type": "stream",
     "text": [
      "True\n",
      "True\n"
     ]
    }
   ],
   "source": [
    "print(isinstance(figure1, Figure))\n",
    "print(isinstance(square1, Figure))"
   ]
  },
  {
   "cell_type": "code",
   "execution_count": 84,
   "metadata": {},
   "outputs": [],
   "source": [
    "class Person:\n",
    "    def __init__(self, name) :\n",
    "        self.name = name\n",
    "    def introduce(self) :\n",
    "        print(\"my name is \" + self.name)\n",
    "\n",
    "class Friend(Person):\n",
    "    def introduce(self) :\n",
    "        print(\"my friend's name is \" + self.name)"
   ]
  },
  {
   "cell_type": "code",
   "execution_count": 86,
   "metadata": {},
   "outputs": [
    {
     "name": "stdout",
     "output_type": "stream",
     "text": [
      "my name is 욱진\n"
     ]
    }
   ],
   "source": [
    "person1 = Person(\"욱진\")\n",
    "person1.introduce()"
   ]
  },
  {
   "cell_type": "code",
   "execution_count": 87,
   "metadata": {},
   "outputs": [
    {
     "name": "stdout",
     "output_type": "stream",
     "text": [
      "my friend's name is 욱진\n"
     ]
    }
   ],
   "source": [
    "friend1 = Friend(\"욱진\")\n",
    "friend1.introduce()"
   ]
  },
  {
   "cell_type": "code",
   "execution_count": 88,
   "metadata": {},
   "outputs": [],
   "source": [
    "class Car :\n",
    "    def __init__(self, name) :\n",
    "        self.name = name\n",
    "    def get_info(self) :\n",
    "        print(\"차명 : \" + self.name)\n",
    "    \n",
    "class ElectorincCar(Car) :\n",
    "    def get_info(self) :\n",
    "        print(\"차명 : \" + self.name + \", 사용 연료 : Electronic\")\n",
    "\n",
    "class GasolineCar(Car) :\n",
    "    def get_info(self) :\n",
    "        print(\"차명 : \" + self.name + \", 사용 연료 : Gasoline\")"
   ]
  },
  {
   "cell_type": "code",
   "execution_count": 89,
   "metadata": {},
   "outputs": [
    {
     "name": "stdout",
     "output_type": "stream",
     "text": [
      "차명 : 기본차\n"
     ]
    }
   ],
   "source": [
    "basic_car = Car(\"기본차\")\n",
    "basic_car.get_info()"
   ]
  },
  {
   "cell_type": "code",
   "execution_count": 90,
   "metadata": {},
   "outputs": [
    {
     "name": "stdout",
     "output_type": "stream",
     "text": [
      "차명 : 전기차, 사용 연료 : Electronic\n"
     ]
    }
   ],
   "source": [
    "elec_car = ElectorincCar(\"전기차\")\n",
    "elec_car.get_info()"
   ]
  },
  {
   "cell_type": "code",
   "execution_count": 91,
   "metadata": {},
   "outputs": [
    {
     "name": "stdout",
     "output_type": "stream",
     "text": [
      "차명 : 가솔린차, 사용 연료 : Gasoline\n"
     ]
    }
   ],
   "source": [
    "gas_car = GasolineCar(\"가솔린차\")\n",
    "gas_car.get_info()"
   ]
  },
  {
   "cell_type": "code",
   "execution_count": 92,
   "metadata": {},
   "outputs": [],
   "source": [
    "class Person :\n",
    "    def work(self) :\n",
    "        print(\"Person Method\")\n",
    "\n",
    "class Student(Person) :\n",
    "    def work(self) :\n",
    "        print(\"Student Method\")\n",
    "    \n",
    "    def parent_work(self) :\n",
    "        super().work()"
   ]
  },
  {
   "cell_type": "code",
   "execution_count": 94,
   "metadata": {},
   "outputs": [
    {
     "name": "stdout",
     "output_type": "stream",
     "text": [
      "Person Method\n"
     ]
    }
   ],
   "source": [
    "person1 = Person()\n",
    "person1.work()"
   ]
  },
  {
   "cell_type": "code",
   "execution_count": 96,
   "metadata": {},
   "outputs": [
    {
     "name": "stdout",
     "output_type": "stream",
     "text": [
      "Student Method\n",
      "Person Method\n"
     ]
    }
   ],
   "source": [
    "student1 = Student()\n",
    "student1.work()\n",
    "student1.parent_work()"
   ]
  },
  {
   "cell_type": "code",
   "execution_count": 97,
   "metadata": {},
   "outputs": [],
   "source": [
    "class Figure :\n",
    "    count = 0 # 클래스 변수\n",
    "    \n",
    "    def __init__(self, width, height) :\n",
    "        self.width = width\n",
    "        self.height = height\n",
    "        Figure.count += 1\n",
    "        \n",
    "    def __del__(self):\n",
    "        Figure.count -= 1\n",
    "        \n",
    "    def calc_area(self):\n",
    "        return self.width * self.height"
   ]
  },
  {
   "cell_type": "code",
   "execution_count": 98,
   "metadata": {},
   "outputs": [
    {
     "name": "stdout",
     "output_type": "stream",
     "text": [
      "1\n"
     ]
    }
   ],
   "source": [
    "figure1 = Figure(2,3)\n",
    "print(Figure.count)"
   ]
  },
  {
   "cell_type": "code",
   "execution_count": 99,
   "metadata": {},
   "outputs": [
    {
     "name": "stdout",
     "output_type": "stream",
     "text": [
      "2\n"
     ]
    }
   ],
   "source": [
    "figure2 = Figure(4,6)\n",
    "print(Figure.count)"
   ]
  },
  {
   "cell_type": "code",
   "execution_count": 100,
   "metadata": {},
   "outputs": [
    {
     "name": "stdout",
     "output_type": "stream",
     "text": [
      "1\n"
     ]
    }
   ],
   "source": [
    "del figure2\n",
    "print(Figure.count)"
   ]
  },
  {
   "cell_type": "markdown",
   "metadata": {},
   "source": [
    "### class method"
   ]
  },
  {
   "cell_type": "code",
   "execution_count": 101,
   "metadata": {},
   "outputs": [],
   "source": [
    "class Figure :\n",
    "    @classmethod\n",
    "    def set_name(cls, name) :\n",
    "        cls.name = name\n",
    "        \n",
    "class Circle(Figure) :\n",
    "    pass"
   ]
  },
  {
   "cell_type": "code",
   "execution_count": 102,
   "metadata": {},
   "outputs": [
    {
     "name": "stdout",
     "output_type": "stream",
     "text": [
      "figure figure\n",
      "figure circle\n"
     ]
    }
   ],
   "source": [
    "Figure.set_name(\"figure\")\n",
    "print(Figure.name, Circle.name)\n",
    "Circle.set_name(\"circle\")\n",
    "print(Figure.name, Circle.name)"
   ]
  },
  {
   "cell_type": "markdown",
   "metadata": {},
   "source": [
    "### static method"
   ]
  },
  {
   "cell_type": "code",
   "execution_count": 103,
   "metadata": {},
   "outputs": [],
   "source": [
    "class Figure :\n",
    "    @staticmethod\n",
    "    def set_name(name) :\n",
    "        Figure.name = name\n",
    "\n",
    "class Circle(Figure) :\n",
    "    pass\n"
   ]
  },
  {
   "cell_type": "code",
   "execution_count": 104,
   "metadata": {},
   "outputs": [
    {
     "name": "stdout",
     "output_type": "stream",
     "text": [
      "figure figure\n",
      "circle circle\n"
     ]
    }
   ],
   "source": [
    "Figure.set_name(\"figure\")\n",
    "print(Figure.name, Circle.name)\n",
    "Circle.set_name(\"circle\")\n",
    "print(Figure.name, Circle.name)"
   ]
  },
  {
   "cell_type": "code",
   "execution_count": 5,
   "metadata": {},
   "outputs": [
    {
     "data": {
      "text/plain": [
       "<pymysql.cursors.Cursor at 0x18c0edf6848>"
      ]
     },
     "execution_count": 5,
     "metadata": {},
     "output_type": "execute_result"
    }
   ],
   "source": [
    "import pymysql\n",
    "\n",
    "db_conn = pymysql.connect(\n",
    "            host='localhost',\n",
    "            port=3306,\n",
    "            user='dave',\n",
    "            passwd='funcoding',\n",
    "            db='blog_db',\n",
    "            charset='utf8')\n",
    "dave_db = db_conn.cursor()\n",
    "dave_db"
   ]
  },
  {
   "cell_type": "code",
   "execution_count": 6,
   "metadata": {},
   "outputs": [
    {
     "data": {
      "text/plain": [
       "0"
      ]
     },
     "execution_count": 6,
     "metadata": {},
     "output_type": "execute_result"
    }
   ],
   "source": [
    "sql = 'SHOW TABLES;'\n",
    "dave_db.execute(sql)"
   ]
  },
  {
   "cell_type": "code",
   "execution_count": 7,
   "metadata": {},
   "outputs": [],
   "source": [
    "sql = \"\"\"\n",
    "CREATE TABLE user_info (\n",
    "    USER_ID INT UNSIGNED NOT NULL AUTO_INCREMENT,\n",
    "    USER_EMAIL VARCHAR(100) NOT NULL,\n",
    "    BLOG_ID CHAR(4),\n",
    "    PRIMARY KEY(USER_ID)\n",
    ");\n",
    "\"\"\"\n",
    "dave_db.execute(sql)\n",
    "db_conn.commit() # 데이터베이스를 변경하는 명령은 commit() 해주기"
   ]
  },
  {
   "cell_type": "code",
   "execution_count": 8,
   "metadata": {},
   "outputs": [
    {
     "data": {
      "text/plain": [
       "1"
      ]
     },
     "execution_count": 8,
     "metadata": {},
     "output_type": "execute_result"
    }
   ],
   "source": [
    "sql = 'SHOW TABLES;'\n",
    "dave_db.execute(sql)"
   ]
  },
  {
   "cell_type": "code",
   "execution_count": 15,
   "metadata": {},
   "outputs": [],
   "source": [
    "user_email = 'test@test.com'\n",
    "blog_id = 'C'"
   ]
  },
  {
   "cell_type": "code",
   "execution_count": 16,
   "metadata": {},
   "outputs": [],
   "source": [
    "sql = \"INSERT INTO user_info (USER_EMAIL, BLOG_ID) VALUES ('%s', '%s')\" % (str(user_email), str(blog_id))\n",
    "dave_db.execute(sql)\n",
    "db_conn.commit()"
   ]
  },
  {
   "cell_type": "code",
   "execution_count": 17,
   "metadata": {},
   "outputs": [
    {
     "name": "stdout",
     "output_type": "stream",
     "text": [
      "(1, 'test@test.com', 'A') <class 'tuple'>\n",
      "(2, 'test@test.com', 'B') <class 'tuple'>\n",
      "(3, 'test@test.com', 'C') <class 'tuple'>\n"
     ]
    }
   ],
   "source": [
    "sql = \"SELECT * FROM user_info\"\n",
    "dave_db.execute(sql)\n",
    "results = dave_db.fetchall()\n",
    "for result in results:\n",
    "    print (result, type(result))"
   ]
  },
  {
   "cell_type": "code",
   "execution_count": 18,
   "metadata": {},
   "outputs": [],
   "source": [
    "user_id = 1"
   ]
  },
  {
   "cell_type": "code",
   "execution_count": 21,
   "metadata": {},
   "outputs": [],
   "source": [
    "sql = \"DELETE FROM user_info WHERE USER_ID = %d\" %(user_id)\n",
    "dave_db.execute(sql)\n",
    "db_conn.commit()"
   ]
  },
  {
   "cell_type": "code",
   "execution_count": 22,
   "metadata": {},
   "outputs": [
    {
     "name": "stdout",
     "output_type": "stream",
     "text": [
      "(2, 'test@test.com', 'B') <class 'tuple'>\n",
      "(3, 'test@test.com', 'C') <class 'tuple'>\n"
     ]
    }
   ],
   "source": [
    "sql = \"SELECT * FROM user_info\"\n",
    "dave_db.execute(sql)\n",
    "results = dave_db.fetchall()\n",
    "for result in results:\n",
    "    print (result, type(result))"
   ]
  },
  {
   "cell_type": "code",
   "execution_count": 23,
   "metadata": {},
   "outputs": [],
   "source": [
    "db_conn.close()"
   ]
  },
  {
   "cell_type": "code",
   "execution_count": null,
   "metadata": {},
   "outputs": [],
   "source": [
    "import pymongo\n",
    "\n",
    "username = ''\n",
    "password = ''\n",
    "ip_address = 'localhost'\n",
    "connection = pymongo.MongoClient()\n",
    "connection = pymongo.MongoClient('mongodb://%s' % (ip_address))\n",
    "blog_session_db = connection.blog_session_db\n",
    "blog_ab = blog_session_db.blog_ab"
   ]
  },
  {
   "cell_type": "code",
   "execution_count": 1,
   "metadata": {},
   "outputs": [
    {
     "ename": "NameError",
     "evalue": "name 'os' is not defined",
     "output_type": "error",
     "traceback": [
      "\u001b[1;31m---------------------------------------------------------------------------\u001b[0m",
      "\u001b[1;31mNameError\u001b[0m                                 Traceback (most recent call last)",
      "\u001b[1;32m<ipython-input-1-c9b8b5572dc6>\u001b[0m in \u001b[0;36m<module>\u001b[1;34m\u001b[0m\n\u001b[1;32m----> 1\u001b[1;33m \u001b[0mapp\u001b[0m\u001b[1;33m.\u001b[0m\u001b[0mserect_key\u001b[0m \u001b[1;33m=\u001b[0m \u001b[0mos\u001b[0m\u001b[1;33m.\u001b[0m\u001b[0murandom\u001b[0m\u001b[1;33m(\u001b[0m\u001b[1;36m24\u001b[0m\u001b[1;33m)\u001b[0m\u001b[1;33m\u001b[0m\u001b[1;33m\u001b[0m\u001b[0m\n\u001b[0m",
      "\u001b[1;31mNameError\u001b[0m: name 'os' is not defined"
     ]
    }
   ],
   "source": [
    "app.serect_key = os.urandom(24)"
   ]
  },
  {
   "cell_type": "code",
   "execution_count": 2,
   "metadata": {},
   "outputs": [
    {
     "ename": "NameError",
     "evalue": "name 'LoginManager' is not defined",
     "output_type": "error",
     "traceback": [
      "\u001b[1;31m---------------------------------------------------------------------------\u001b[0m",
      "\u001b[1;31mNameError\u001b[0m                                 Traceback (most recent call last)",
      "\u001b[1;32m<ipython-input-2-32fcd6afd3b3>\u001b[0m in \u001b[0;36m<module>\u001b[1;34m\u001b[0m\n\u001b[1;32m----> 1\u001b[1;33m \u001b[0mlogin_manager\u001b[0m \u001b[1;33m=\u001b[0m \u001b[0mLoginManager\u001b[0m\u001b[1;33m(\u001b[0m\u001b[1;33m)\u001b[0m\u001b[1;33m\u001b[0m\u001b[1;33m\u001b[0m\u001b[0m\n\u001b[0m\u001b[0;32m      2\u001b[0m \u001b[0mlogin_manager\u001b[0m\u001b[1;33m.\u001b[0m\u001b[0minit_app\u001b[0m\u001b[1;33m(\u001b[0m\u001b[0mapp\u001b[0m\u001b[1;33m)\u001b[0m\u001b[1;33m\u001b[0m\u001b[1;33m\u001b[0m\u001b[0m\n\u001b[0;32m      3\u001b[0m \u001b[0mlogin_manager\u001b[0m\u001b[1;33m.\u001b[0m\u001b[0msession_protection\u001b[0m \u001b[1;33m=\u001b[0m \u001b[1;34m\"strong\"\u001b[0m\u001b[1;33m\u001b[0m\u001b[1;33m\u001b[0m\u001b[0m\n",
      "\u001b[1;31mNameError\u001b[0m: name 'LoginManager' is not defined"
     ]
    }
   ],
   "source": [
    "login_manager = LoginManager()\n",
    "login_manager.init_app(app)\n",
    "login_manager.session_protection = \"strong\""
   ]
  },
  {
   "cell_type": "code",
   "execution_count": null,
   "metadata": {},
   "outputs": [],
   "source": [
    "from flask_login import login_user\n",
    "\n",
    "user = User.create(user_email, blog_id)\n",
    "login_user(user)"
   ]
  },
  {
   "cell_type": "code",
   "execution_count": null,
   "metadata": {},
   "outputs": [],
   "source": [
    "@login_manager.user_loader\n",
    "def load_user(user_id):\n",
    "    return User.get(user_id)"
   ]
  },
  {
   "cell_type": "code",
   "execution_count": null,
   "metadata": {},
   "outputs": [],
   "source": [
    "@login_manager.unauthorized_handler\n",
    "def unauthorized():\n",
    "    return make_response(jsonify(success=False), 401)"
   ]
  },
  {
   "cell_type": "code",
   "execution_count": null,
   "metadata": {},
   "outputs": [],
   "source": []
  }
 ],
 "metadata": {
  "kernelspec": {
   "display_name": "Python 3",
   "language": "python",
   "name": "python3"
  },
  "language_info": {
   "codemirror_mode": {
    "name": "ipython",
    "version": 3
   },
   "file_extension": ".py",
   "mimetype": "text/x-python",
   "name": "python",
   "nbconvert_exporter": "python",
   "pygments_lexer": "ipython3",
   "version": "3.7.6"
  }
 },
 "nbformat": 4,
 "nbformat_minor": 4
}
