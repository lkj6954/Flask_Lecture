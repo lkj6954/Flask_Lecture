{
 "cells": [
  {
   "cell_type": "markdown",
   "metadata": {},
   "source": [
    "## python core summary 따라하기"
   ]
  },
  {
   "cell_type": "markdown",
   "metadata": {},
   "source": [
    "### Small Project 1\n",
    "* 변수 이름 10개 만들어보기\n",
    "    * 나이, 이름, 키, 몸무게, 발사이즈, 안경 유무, 결혼 유무, 성별, 취미, 특기\n",
    "    * 변수 이름 만들 때, 영문으로 시작하기"
   ]
  },
  {
   "cell_type": "code",
   "execution_count": 13,
   "metadata": {},
   "outputs": [],
   "source": [
    "age = 26\n",
    "height = 173\n",
    "weight = 72\n",
    "foot = 265\n",
    "glasses = 1\n",
    "married = 0\n",
    "sex = \"male\"\n",
    "hobby = \"reading\"\n",
    "specialty = \"rap\""
   ]
  },
  {
   "cell_type": "markdown",
   "metadata": {},
   "source": [
    "* 느낀점\n",
    "    1. 오랜만에 해서 파이썬은 자료형 타입을 선언하지 않아도 되었다는 것을 간과했다.\n",
    "    2. 콤마로 이어서 변수 선언을 하면 안된다는 것을 몰랐다."
   ]
  },
  {
   "cell_type": "markdown",
   "metadata": {},
   "source": [
    "## Small Project2\n",
    "* 반지름(r=10)을 선언한 뒤, 이를 이용하여 원의 지름, 둘레(2 * pi * r), 넓이(r * r * pi)를 각각 출력하는 파이썬 파일을 만들어보세요.(pi=3.1415)"
   ]
  },
  {
   "cell_type": "code",
   "execution_count": 16,
   "metadata": {},
   "outputs": [
    {
     "name": "stdout",
     "output_type": "stream",
     "text": [
      "원의 지름 :  20\n",
      "원의 둘레 :  62.830000000000005\n",
      "원의 넓이 :  314.15000000000003\n"
     ]
    }
   ],
   "source": [
    "r = 10\n",
    "pi = 3.1415\n",
    "print(\"원의 지름 : \", r*2)\n",
    "print(\"원의 둘레 : \", 2 * pi * r)\n",
    "print(\"원의 넓이 : \", r * r * pi)"
   ]
  },
  {
   "cell_type": "markdown",
   "metadata": {},
   "source": [
    "# ======================"
   ]
  },
  {
   "cell_type": "code",
   "execution_count": 28,
   "metadata": {},
   "outputs": [
    {
     "name": "stdout",
     "output_type": "stream",
     "text": [
      "이름을 입력하세요 : 이경준\n",
      "환영합니다, 이경준님\n"
     ]
    }
   ],
   "source": [
    "name = input(\"이름을 입력하세요 : \")\n",
    "print(\"환영합니다, %s님\" %name)"
   ]
  },
  {
   "cell_type": "markdown",
   "metadata": {},
   "source": [
    "* print문에서 %로 출력할 때의 방법을 계속 까먹는다. dot이나 comma를 쓰면 안된다!"
   ]
  },
  {
   "cell_type": "code",
   "execution_count": 30,
   "metadata": {},
   "outputs": [
    {
     "name": "stdout",
     "output_type": "stream",
     "text": [
      "정수 A의 값을 입력하세요 : 15\n",
      "정수 B의 값을 입력하세요 : 20\n",
      "A + B = 35\n"
     ]
    }
   ],
   "source": [
    "A = int(input(\"정수 A의 값을 입력하세요 : \"))\n",
    "B = int(input(\"정수 B의 값을 입력하세요 : \"))\n",
    "print(\"A + B = %s\" %(A+B))"
   ]
  },
  {
   "cell_type": "markdown",
   "metadata": {},
   "source": [
    "markdown에서 굵게 하려면 애스터리스크 두개로 앞뒤를 감싸면 된다. **이렇게**\n",
    ">그리고 맨 첫 줄에 >으로 이것처럼 가능\n",
    "```\n",
    "위아래를 ```으로 감싸면 코드처럼 가능\n",
    "like this\n",
    "```\n"
   ]
  },
  {
   "cell_type": "code",
   "execution_count": 37,
   "metadata": {},
   "outputs": [
    {
     "name": "stdout",
     "output_type": "stream",
     "text": [
      "원본 : ,,,DaveLee...\n",
      "strip(\",\") 결과 : DaveLee...\n",
      "strip(\".\") 결과 : ,,,DaveLee\n"
     ]
    }
   ],
   "source": [
    "some_string = \",,,DaveLee...\"\n",
    "result1 = some_string.strip(\",\")\n",
    "result2 = some_string.strip(\".\")\n",
    "print(\"원본 : %s\" %some_string)\n",
    "print(\"strip(\\\",\\\") 결과 : %s\\nstrip(\\\".\\\") 결과 : %s\" %(result1, result2))"
   ]
  },
  {
   "cell_type": "code",
   "execution_count": 39,
   "metadata": {},
   "outputs": [
    {
     "name": "stdout",
     "output_type": "stream",
     "text": [
      "quot : 3, rem : 1\n"
     ]
    }
   ],
   "source": [
    "def quot_and_rem(x,y):\n",
    "    quot = x//y\n",
    "    rem = x%y\n",
    "    return (quot, rem)\n",
    "\n",
    "(quot, rem) = quot_and_rem(10,3)\n",
    "print(\"quot : %s, rem : %s\" %(quot, rem))"
   ]
  },
  {
   "cell_type": "markdown",
   "metadata": {},
   "source": [
    "## 리스트 <-> 튜플"
   ]
  },
  {
   "cell_type": "code",
   "execution_count": 40,
   "metadata": {},
   "outputs": [
    {
     "data": {
      "text/plain": [
       "(1, 2)"
      ]
     },
     "execution_count": 40,
     "metadata": {},
     "output_type": "execute_result"
    }
   ],
   "source": [
    "list((1,2))\n",
    "tuple([1,2])"
   ]
  },
  {
   "cell_type": "markdown",
   "metadata": {},
   "source": [
    "## 딕셔너리"
   ]
  },
  {
   "cell_type": "code",
   "execution_count": 44,
   "metadata": {},
   "outputs": [
    {
     "name": "stdout",
     "output_type": "stream",
     "text": [
      "{}\n",
      "{'korean': 95, 'math': 100, 'science': [80, 70, 60, 50]}\n",
      "{'korean': 95, 'math': 100, 'science': [80, 70, 60, 50], 'english': 'pass'}\n"
     ]
    }
   ],
   "source": [
    "dict1 = {}\n",
    "print(dict1)\n",
    "dict2 = {'korean' : 95, 'math' : 100, 'science' : [80,70,60,50]}\n",
    "print(dict2)\n",
    "dict2['english'] = \"pass\"\n",
    "print(dict2)"
   ]
  },
  {
   "cell_type": "code",
   "execution_count": 45,
   "metadata": {},
   "outputs": [
    {
     "name": "stdout",
     "output_type": "stream",
     "text": [
      "{'korean': 95, 'science': [80, 70, 60, 50], 'english': 'pass'}\n"
     ]
    }
   ],
   "source": [
    "del dict2['math']\n",
    "print(dict2)"
   ]
  },
  {
   "cell_type": "code",
   "execution_count": 46,
   "metadata": {},
   "outputs": [
    {
     "name": "stdout",
     "output_type": "stream",
     "text": [
      "95\n"
     ]
    }
   ],
   "source": [
    "print(dict2['korean'])"
   ]
  },
  {
   "cell_type": "code",
   "execution_count": 47,
   "metadata": {},
   "outputs": [
    {
     "name": "stdout",
     "output_type": "stream",
     "text": [
      "dict_keys(['korean', 'science', 'english'])\n"
     ]
    }
   ],
   "source": [
    "print(dict2.keys())"
   ]
  },
  {
   "cell_type": "code",
   "execution_count": 48,
   "metadata": {},
   "outputs": [
    {
     "name": "stdout",
     "output_type": "stream",
     "text": [
      "dict_values([95, [80, 70, 60, 50], 'pass'])\n"
     ]
    }
   ],
   "source": [
    "print(dict2.values())"
   ]
  },
  {
   "cell_type": "code",
   "execution_count": 49,
   "metadata": {},
   "outputs": [
    {
     "name": "stdout",
     "output_type": "stream",
     "text": [
      "dict_items([('korean', 95), ('science', [80, 70, 60, 50]), ('english', 'pass')])\n"
     ]
    }
   ],
   "source": [
    "print(dict2.items())"
   ]
  },
  {
   "cell_type": "markdown",
   "metadata": {},
   "source": [
    "## 데이터 구조 (집합 또는 set)"
   ]
  },
  {
   "cell_type": "code",
   "execution_count": 58,
   "metadata": {},
   "outputs": [
    {
     "name": "stdout",
     "output_type": "stream",
     "text": [
      "{'pineapple', 'apple', 'pen'}\n",
      "True\n",
      "False\n"
     ]
    },
    {
     "data": {
      "text/plain": [
       "{'a', 'e', 'i', 'l', 'n', 'p'}"
      ]
     },
     "execution_count": 58,
     "metadata": {},
     "output_type": "execute_result"
    }
   ],
   "source": [
    "ppap = {'pen', 'pineapple', 'apple', 'pen'}\n",
    "print(ppap)\n",
    "\n",
    "print('apple' in ppap)\n",
    "print('banana' in ppap)\n",
    "\n",
    "pineapple = set('pineapple') # pineapple의 각 문자를 다 나눠서 set형으로 바꾼다\n",
    "pineapple"
   ]
  },
  {
   "cell_type": "markdown",
   "metadata": {},
   "source": [
    "### set 계산\n",
    "A ∪ B\t== `A | B` <br>\n",
    "A ∩ B\t== `A & B` <br>\n",
    "A - B\t== `A - B` <br>\n",
    "A &#916; B \t== `A ^ B`"
   ]
  },
  {
   "cell_type": "code",
   "execution_count": 59,
   "metadata": {},
   "outputs": [],
   "source": [
    "a = {1,2,3}\n",
    "b = {4,5,6}"
   ]
  },
  {
   "cell_type": "code",
   "execution_count": 60,
   "metadata": {},
   "outputs": [
    {
     "data": {
      "text/plain": [
       "{1, 2, 3, 4, 5, 6}"
      ]
     },
     "execution_count": 60,
     "metadata": {},
     "output_type": "execute_result"
    }
   ],
   "source": [
    "a | b"
   ]
  },
  {
   "cell_type": "code",
   "execution_count": 61,
   "metadata": {},
   "outputs": [
    {
     "data": {
      "text/plain": [
       "set()"
      ]
     },
     "execution_count": 61,
     "metadata": {},
     "output_type": "execute_result"
    }
   ],
   "source": [
    "a & b"
   ]
  },
  {
   "cell_type": "code",
   "execution_count": 62,
   "metadata": {},
   "outputs": [
    {
     "data": {
      "text/plain": [
       "{1, 2, 3}"
      ]
     },
     "execution_count": 62,
     "metadata": {},
     "output_type": "execute_result"
    }
   ],
   "source": [
    "a - b"
   ]
  },
  {
   "cell_type": "code",
   "execution_count": 63,
   "metadata": {},
   "outputs": [
    {
     "data": {
      "text/plain": [
       "{1, 2, 3, 4, 5, 6}"
      ]
     },
     "execution_count": 63,
     "metadata": {},
     "output_type": "execute_result"
    }
   ],
   "source": [
    "a ^ b"
   ]
  },
  {
   "cell_type": "code",
   "execution_count": 64,
   "metadata": {},
   "outputs": [
    {
     "name": "stdout",
     "output_type": "stream",
     "text": [
      "Requirement already satisfied: flask in c:\\anaconda3\\lib\\site-packages (1.1.1)\n",
      "Requirement already satisfied: Werkzeug>=0.15 in c:\\anaconda3\\lib\\site-packages (from flask) (1.0.0)\n",
      "Requirement already satisfied: click>=5.1 in c:\\anaconda3\\lib\\site-packages (from flask) (7.0)\n",
      "Requirement already satisfied: itsdangerous>=0.24 in c:\\anaconda3\\lib\\site-packages (from flask) (1.1.0)\n",
      "Requirement already satisfied: Jinja2>=2.10.1 in c:\\anaconda3\\lib\\site-packages (from flask) (2.11.1)\n",
      "Requirement already satisfied: MarkupSafe>=0.23 in c:\\anaconda3\\lib\\site-packages (from Jinja2>=2.10.1->flask) (1.1.1)\n"
     ]
    }
   ],
   "source": [
    "!pip install flask"
   ]
  },
  {
   "cell_type": "code",
   "execution_count": 1,
   "metadata": {},
   "outputs": [],
   "source": [
    "from flask import Flask # import 뒤의 Flask는 클래스.\n",
    "\n",
    "app = Flask(__name__)\n",
    "@app.route(\"/hello\")\n",
    "def hello():\n",
    "    return \"Hello Flask!\"\n",
    "\n",
    "if __name__ == \"__main__\":\n",
    "    app.run(host=\"127.0.0.1\", port=\"8080\")"
   ]
  },
  {
   "cell_type": "markdown",
   "metadata": {},
   "source": [
    "### 데코레이터의 이해"
   ]
  },
  {
   "cell_type": "markdown",
   "metadata": {},
   "source": [
    "### 중첩 함수(Nested Function)"
   ]
  },
  {
   "cell_type": "code",
   "execution_count": 7,
   "metadata": {},
   "outputs": [],
   "source": [
    "def outer_func():\n",
    "    print(\"외부함수 실행\")\n",
    "    \n",
    "    def inner_func():\n",
    "        return '내부함수 실행' # return으로하고 외부 함수에 inner_func()를 출력하도록 하네.\n",
    "#         print(\"내부함수 실행\")\n",
    "\n",
    "    print(inner_func())"
   ]
  },
  {
   "cell_type": "code",
   "execution_count": 8,
   "metadata": {},
   "outputs": [
    {
     "name": "stdout",
     "output_type": "stream",
     "text": [
      "외부함수 실행\n",
      "내부함수 실행\n"
     ]
    }
   ],
   "source": [
    "outer_func()"
   ]
  },
  {
   "cell_type": "markdown",
   "metadata": {},
   "source": [
    "### 중첩함수의 내부 함수를 함수 밖에서도 출력할 수 있게 도와주는 First-class function과 closure"
   ]
  },
  {
   "cell_type": "code",
   "execution_count": 13,
   "metadata": {},
   "outputs": [],
   "source": [
    "def outer_func(num):\n",
    "    print(\"외부함수 실행\")\n",
    "    \n",
    "    def inner_func():\n",
    "        print(num)\n",
    "        return '내부함수 리턴값'\n",
    "    \n",
    "    return inner_func"
   ]
  },
  {
   "cell_type": "code",
   "execution_count": 14,
   "metadata": {},
   "outputs": [
    {
     "name": "stdout",
     "output_type": "stream",
     "text": [
      "외부함수 실행\n",
      "10\n",
      "내부함수 리턴값\n"
     ]
    }
   ],
   "source": [
    "fn = outer_func(10) # First-class function\n",
    "print(fn()) # closure 호출"
   ]
  },
  {
   "cell_type": "markdown",
   "metadata": {},
   "source": [
    "### First-class function - 다른 변수에 함수 할당 가능"
   ]
  },
  {
   "cell_type": "code",
   "execution_count": 16,
   "metadata": {},
   "outputs": [
    {
     "data": {
      "text/plain": [
       "4"
      ]
     },
     "execution_count": 16,
     "metadata": {},
     "output_type": "execute_result"
    }
   ],
   "source": [
    "def calc_square(digit):\n",
    "    return digit * digit\n",
    "calc_square(2)"
   ]
  },
  {
   "cell_type": "code",
   "execution_count": 19,
   "metadata": {},
   "outputs": [
    {
     "data": {
      "text/plain": [
       "16"
      ]
     },
     "execution_count": 19,
     "metadata": {},
     "output_type": "execute_result"
    }
   ],
   "source": [
    "func1 = calc_square\n",
    "func1(4)"
   ]
  },
  {
   "cell_type": "markdown",
   "metadata": {},
   "source": [
    "### First_class function - 함수를 다른 함수의 인자로 삽입 가능"
   ]
  },
  {
   "cell_type": "code",
   "execution_count": 26,
   "metadata": {},
   "outputs": [],
   "source": [
    "def clac_quad(digit):\n",
    "    return digit*digit*digit*digit\n",
    "\n",
    "def list_square(func, digit_list):\n",
    "    result = list()\n",
    "    for digit in digit_list:\n",
    "        result.append(func(digit)) #digit_list의 리스트 원소를 인자로 받은 함수에 하나하나씩 넣어서 결과 만듬\n",
    "    print(result)\n",
    "\n",
    "list_1to5 = [1,2,3,4,5]"
   ]
  },
  {
   "cell_type": "code",
   "execution_count": 27,
   "metadata": {},
   "outputs": [
    {
     "name": "stdout",
     "output_type": "stream",
     "text": [
      "[1, 16, 81, 256, 625]\n"
     ]
    }
   ],
   "source": [
    "list_square(clac_quad, list_1to5)"
   ]
  },
  {
   "cell_type": "code",
   "execution_count": 28,
   "metadata": {},
   "outputs": [],
   "source": [
    "def logger(msg):\n",
    "    message = msg\n",
    "    def msg_creator():\n",
    "        print('[High Level] : %s' %msg)\n",
    "    return msg_creator"
   ]
  },
  {
   "cell_type": "code",
   "execution_count": 29,
   "metadata": {},
   "outputs": [],
   "source": [
    "log1 = logger('LKJ login')"
   ]
  },
  {
   "cell_type": "code",
   "execution_count": 30,
   "metadata": {},
   "outputs": [
    {
     "data": {
      "text/plain": [
       "<function __main__.logger.<locals>.msg_creator()>"
      ]
     },
     "execution_count": 30,
     "metadata": {},
     "output_type": "execute_result"
    }
   ],
   "source": [
    "log1"
   ]
  },
  {
   "cell_type": "code",
   "execution_count": 31,
   "metadata": {},
   "outputs": [
    {
     "name": "stdout",
     "output_type": "stream",
     "text": [
      "[High Level] : LKJ login\n"
     ]
    }
   ],
   "source": [
    "log1()"
   ]
  },
  {
   "cell_type": "markdown",
   "metadata": {},
   "source": [
    "함수를 대입한 변수에 ()를 넣어야 비로소 함수의 기능을 하는 것이 신기하다."
   ]
  },
  {
   "cell_type": "markdown",
   "metadata": {},
   "source": [
    "### First-class function - 활용"
   ]
  },
  {
   "cell_type": "markdown",
   "metadata": {},
   "source": [
    "함수 리턴할 때는 () 쓰지 않고 하는 듯."
   ]
  },
  {
   "cell_type": "code",
   "execution_count": 43,
   "metadata": {},
   "outputs": [],
   "source": [
    "# html 태그 자동 생성\n",
    "def html_creator(tag):\n",
    "    def msg_creator(msg):\n",
    "        print(\"<{0}>{1}</{0}>\" . format(tag, msg))\n",
    "    return msg_creator"
   ]
  },
  {
   "cell_type": "code",
   "execution_count": 44,
   "metadata": {},
   "outputs": [],
   "source": [
    "h1_html_creator = html_creator('h1')"
   ]
  },
  {
   "cell_type": "code",
   "execution_count": 45,
   "metadata": {},
   "outputs": [
    {
     "data": {
      "text/plain": [
       "<function __main__.html_creator.<locals>.msg_creator(msg)>"
      ]
     },
     "execution_count": 45,
     "metadata": {},
     "output_type": "execute_result"
    }
   ],
   "source": [
    "h1_html_creator"
   ]
  },
  {
   "cell_type": "code",
   "execution_count": 46,
   "metadata": {},
   "outputs": [
    {
     "name": "stdout",
     "output_type": "stream",
     "text": [
      "<h1>h1태그 자동 생성띠</h1>\n"
     ]
    }
   ],
   "source": [
    "h1_html_creator('h1태그 자동 생성띠')"
   ]
  },
  {
   "cell_type": "code",
   "execution_count": 47,
   "metadata": {},
   "outputs": [],
   "source": [
    "div_html_creator = html_creator(\"div\")"
   ]
  },
  {
   "cell_type": "code",
   "execution_count": 48,
   "metadata": {},
   "outputs": [
    {
     "data": {
      "text/plain": [
       "<function __main__.html_creator.<locals>.msg_creator(msg)>"
      ]
     },
     "execution_count": 48,
     "metadata": {},
     "output_type": "execute_result"
    }
   ],
   "source": [
    "div_html_creator"
   ]
  },
  {
   "cell_type": "code",
   "execution_count": 49,
   "metadata": {},
   "outputs": [
    {
     "name": "stdout",
     "output_type": "stream",
     "text": [
      "<div>div 태그 자동 생성띠띠</div>\n"
     ]
    }
   ],
   "source": [
    "div_html_creator(\"div 태그 자동 생성띠띠\")"
   ]
  },
  {
   "cell_type": "code",
   "execution_count": 64,
   "metadata": {},
   "outputs": [],
   "source": [
    "# 목차 기호 입력하고, 들어갈 문자열을 리스트로 넣기\n",
    "def index_creator(sign):\n",
    "    def msg_creator(content_list):\n",
    "        for content in content_list :\n",
    "            print(\"{0} {1}\" . format(sign, content))\n",
    "    return msg_creator"
   ]
  },
  {
   "cell_type": "code",
   "execution_count": 65,
   "metadata": {},
   "outputs": [],
   "source": [
    "list_data = [\"서론\", \"개요\", \"실험과정\", \"결론\"]"
   ]
  },
  {
   "cell_type": "code",
   "execution_count": 66,
   "metadata": {},
   "outputs": [
    {
     "data": {
      "text/plain": [
       "<function __main__.index_creator.<locals>.msg_creator(content_list)>"
      ]
     },
     "execution_count": 66,
     "metadata": {},
     "output_type": "execute_result"
    }
   ],
   "source": [
    "star_index_creator = index_creator('*')\n",
    "star_index_creator"
   ]
  },
  {
   "cell_type": "code",
   "execution_count": 67,
   "metadata": {},
   "outputs": [
    {
     "name": "stdout",
     "output_type": "stream",
     "text": [
      "* 서론\n",
      "* 개요\n",
      "* 실험과정\n",
      "* 결론\n"
     ]
    }
   ],
   "source": [
    "star_index_creator(list_data)"
   ]
  },
  {
   "cell_type": "code",
   "execution_count": 7,
   "metadata": {},
   "outputs": [],
   "source": [
    "def html_creator(tag):\n",
    "    def text_wrapper(msg):\n",
    "        print(\"<{0}>{1}</{0}>\" . format(msg, tag))\n",
    "    return text_wrapper"
   ]
  },
  {
   "cell_type": "code",
   "execution_count": 8,
   "metadata": {},
   "outputs": [
    {
     "name": "stdout",
     "output_type": "stream",
     "text": [
      "<function html_creator.<locals>.text_wrapper at 0x000002B228531318>\n"
     ]
    }
   ],
   "source": [
    "h1_html_creator = html_creator('h1')\n",
    "print(h1_html_creator)"
   ]
  },
  {
   "cell_type": "code",
   "execution_count": 9,
   "metadata": {},
   "outputs": [
    {
     "name": "stdout",
     "output_type": "stream",
     "text": [
      "<임수민 바보쉑>h1</임수민 바보쉑>\n"
     ]
    }
   ],
   "source": [
    "h1_html_creator(\"임수민 바보쉑\")"
   ]
  },
  {
   "cell_type": "markdown",
   "metadata": {},
   "source": [
    "# 3. flask와 Rest API 실습"
   ]
  },
  {
   "cell_type": "code",
   "execution_count": null,
   "metadata": {},
   "outputs": [],
   "source": []
  }
 ],
 "metadata": {
  "kernelspec": {
   "display_name": "Python 3",
   "language": "python",
   "name": "python3"
  },
  "language_info": {
   "codemirror_mode": {
    "name": "ipython",
    "version": 3
   },
   "file_extension": ".py",
   "mimetype": "text/x-python",
   "name": "python",
   "nbconvert_exporter": "python",
   "pygments_lexer": "ipython3",
   "version": "3.7.6"
  }
 },
 "nbformat": 4,
 "nbformat_minor": 4
}
